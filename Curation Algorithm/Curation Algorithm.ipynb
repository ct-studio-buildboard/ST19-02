{
 "cells": [
  {
   "cell_type": "code",
   "execution_count": 78,
   "metadata": {},
   "outputs": [],
   "source": [
    "import numpy as np\n",
    "import pandas as pd"
   ]
  },
  {
   "cell_type": "code",
   "execution_count": 83,
   "metadata": {
    "scrolled": true
   },
   "outputs": [
    {
     "data": {
      "text/html": [
       "<div>\n",
       "<style scoped>\n",
       "    .dataframe tbody tr th:only-of-type {\n",
       "        vertical-align: middle;\n",
       "    }\n",
       "\n",
       "    .dataframe tbody tr th {\n",
       "        vertical-align: top;\n",
       "    }\n",
       "\n",
       "    .dataframe thead th {\n",
       "        text-align: right;\n",
       "    }\n",
       "</style>\n",
       "<table border=\"1\" class=\"dataframe\">\n",
       "  <thead>\n",
       "    <tr style=\"text-align: right;\">\n",
       "      <th></th>\n",
       "      <th>Occasion</th>\n",
       "      <th>Type</th>\n",
       "      <th>noGuest</th>\n",
       "      <th>Cooking</th>\n",
       "      <th>Drinks</th>\n",
       "      <th>Sodas</th>\n",
       "      <th>Juice</th>\n",
       "      <th>Beer</th>\n",
       "      <th>Wine</th>\n",
       "      <th>Spirits</th>\n",
       "      <th>Supplies</th>\n",
       "      <th>Decorations</th>\n",
       "      <th>Gathr Kit</th>\n",
       "    </tr>\n",
       "  </thead>\n",
       "  <tbody>\n",
       "    <tr>\n",
       "      <th>0</th>\n",
       "      <td>0</td>\n",
       "      <td>0</td>\n",
       "      <td>2</td>\n",
       "      <td>0</td>\n",
       "      <td>0</td>\n",
       "      <td>0</td>\n",
       "      <td>0</td>\n",
       "      <td>0</td>\n",
       "      <td>0</td>\n",
       "      <td>0</td>\n",
       "      <td>0</td>\n",
       "      <td>0</td>\n",
       "      <td>kit2</td>\n",
       "    </tr>\n",
       "    <tr>\n",
       "      <th>1</th>\n",
       "      <td>0</td>\n",
       "      <td>0</td>\n",
       "      <td>2</td>\n",
       "      <td>1</td>\n",
       "      <td>0</td>\n",
       "      <td>0</td>\n",
       "      <td>0</td>\n",
       "      <td>0</td>\n",
       "      <td>0</td>\n",
       "      <td>0</td>\n",
       "      <td>0</td>\n",
       "      <td>0</td>\n",
       "      <td>kit3</td>\n",
       "    </tr>\n",
       "    <tr>\n",
       "      <th>2</th>\n",
       "      <td>0</td>\n",
       "      <td>0</td>\n",
       "      <td>2</td>\n",
       "      <td>0</td>\n",
       "      <td>1</td>\n",
       "      <td>0</td>\n",
       "      <td>0</td>\n",
       "      <td>1</td>\n",
       "      <td>0</td>\n",
       "      <td>0</td>\n",
       "      <td>0</td>\n",
       "      <td>0</td>\n",
       "      <td>kit4</td>\n",
       "    </tr>\n",
       "    <tr>\n",
       "      <th>3</th>\n",
       "      <td>0</td>\n",
       "      <td>0</td>\n",
       "      <td>2</td>\n",
       "      <td>1</td>\n",
       "      <td>1</td>\n",
       "      <td>1</td>\n",
       "      <td>0</td>\n",
       "      <td>1</td>\n",
       "      <td>0</td>\n",
       "      <td>0</td>\n",
       "      <td>0</td>\n",
       "      <td>0</td>\n",
       "      <td>kit5</td>\n",
       "    </tr>\n",
       "    <tr>\n",
       "      <th>4</th>\n",
       "      <td>0</td>\n",
       "      <td>0</td>\n",
       "      <td>5</td>\n",
       "      <td>0</td>\n",
       "      <td>0</td>\n",
       "      <td>0</td>\n",
       "      <td>0</td>\n",
       "      <td>0</td>\n",
       "      <td>0</td>\n",
       "      <td>0</td>\n",
       "      <td>0</td>\n",
       "      <td>0</td>\n",
       "      <td>NaN</td>\n",
       "    </tr>\n",
       "  </tbody>\n",
       "</table>\n",
       "</div>"
      ],
      "text/plain": [
       "   Occasion  Type  noGuest  Cooking   Drinks  Sodas  Juice  Beer  Wine  \\\n",
       "0         0     0        2         0       0      0      0     0     0   \n",
       "1         0     0        2         1       0      0      0     0     0   \n",
       "2         0     0        2         0       1      0      0     1     0   \n",
       "3         0     0        2         1       1      1      0     1     0   \n",
       "4         0     0        5         0       0      0      0     0     0   \n",
       "\n",
       "   Spirits  Supplies  Decorations Gathr Kit  \n",
       "0        0         0            0      kit2  \n",
       "1        0         0            0      kit3  \n",
       "2        0         0            0      kit4  \n",
       "3        0         0            0      kit5  \n",
       "4        0         0            0       NaN  "
      ]
     },
     "execution_count": 83,
     "metadata": {},
     "output_type": "execute_result"
    }
   ],
   "source": [
    "Data=pd.read_excel( \"data.xlsx\" , sheet_name = \"Answers\" )\n",
    "Data.head()"
   ]
  },
  {
   "cell_type": "code",
   "execution_count": 84,
   "metadata": {
    "scrolled": true
   },
   "outputs": [
    {
     "data": {
      "text/html": [
       "<div>\n",
       "<style scoped>\n",
       "    .dataframe tbody tr th:only-of-type {\n",
       "        vertical-align: middle;\n",
       "    }\n",
       "\n",
       "    .dataframe tbody tr th {\n",
       "        vertical-align: top;\n",
       "    }\n",
       "\n",
       "    .dataframe thead th {\n",
       "        text-align: right;\n",
       "    }\n",
       "</style>\n",
       "<table border=\"1\" class=\"dataframe\">\n",
       "  <thead>\n",
       "    <tr style=\"text-align: right;\">\n",
       "      <th></th>\n",
       "      <th>product_ID</th>\n",
       "      <th>category_ID</th>\n",
       "      <th>category_name</th>\n",
       "      <th>brand</th>\n",
       "      <th>name</th>\n",
       "      <th>price</th>\n",
       "      <th>supplier_name</th>\n",
       "    </tr>\n",
       "  </thead>\n",
       "  <tbody>\n",
       "    <tr>\n",
       "      <th>0</th>\n",
       "      <td>1_00001</td>\n",
       "      <td>1</td>\n",
       "      <td>food</td>\n",
       "      <td>Tostitos</td>\n",
       "      <td>Tortilla Chips</td>\n",
       "      <td>2.98</td>\n",
       "      <td>Duane Reades</td>\n",
       "    </tr>\n",
       "    <tr>\n",
       "      <th>1</th>\n",
       "      <td>1_00002</td>\n",
       "      <td>1</td>\n",
       "      <td>food</td>\n",
       "      <td>Old El Paso</td>\n",
       "      <td>Guacamole</td>\n",
       "      <td>1.39</td>\n",
       "      <td>Duane Reades</td>\n",
       "    </tr>\n",
       "    <tr>\n",
       "      <th>2</th>\n",
       "      <td>1_00003</td>\n",
       "      <td>1</td>\n",
       "      <td>food</td>\n",
       "      <td>Amy's</td>\n",
       "      <td>Cheese Frozen Pizza</td>\n",
       "      <td>6.69</td>\n",
       "      <td>Duane Reades</td>\n",
       "    </tr>\n",
       "    <tr>\n",
       "      <th>3</th>\n",
       "      <td>1_00004</td>\n",
       "      <td>1</td>\n",
       "      <td>food</td>\n",
       "      <td>Piccolo Trattoria</td>\n",
       "      <td>Margherita Pizza</td>\n",
       "      <td>10.95</td>\n",
       "      <td>Piccolo Trattoria</td>\n",
       "    </tr>\n",
       "    <tr>\n",
       "      <th>4</th>\n",
       "      <td>1_00005</td>\n",
       "      <td>1</td>\n",
       "      <td>food</td>\n",
       "      <td>Atami</td>\n",
       "      <td>Maki Combo A</td>\n",
       "      <td>16.00</td>\n",
       "      <td>Atami</td>\n",
       "    </tr>\n",
       "  </tbody>\n",
       "</table>\n",
       "</div>"
      ],
      "text/plain": [
       "  product_ID category_ID category_name              brand  \\\n",
       "0    1_00001           1          food           Tostitos   \n",
       "1    1_00002           1          food        Old El Paso   \n",
       "2    1_00003           1          food              Amy's   \n",
       "3    1_00004           1          food  Piccolo Trattoria   \n",
       "4    1_00005           1          food              Atami   \n",
       "\n",
       "                  name  price      supplier_name  \n",
       "0       Tortilla Chips   2.98       Duane Reades  \n",
       "1            Guacamole   1.39       Duane Reades  \n",
       "2  Cheese Frozen Pizza   6.69       Duane Reades  \n",
       "3     Margherita Pizza  10.95  Piccolo Trattoria  \n",
       "4         Maki Combo A  16.00              Atami  "
      ]
     },
     "execution_count": 84,
     "metadata": {},
     "output_type": "execute_result"
    }
   ],
   "source": [
    "Products = pd.read_excel( \"data.xlsx\" , sheet_name = \"Products\" )\n",
    "products_columns = Products.columns\n",
    "Products.head()"
   ]
  },
  {
   "cell_type": "code",
   "execution_count": 85,
   "metadata": {},
   "outputs": [],
   "source": [
    "#inputFormat = [ occasion , Type , noGuest , Cooking , Drinks , Sodas , Juice , Beer , Wine , Spirits , Supplies , Decorations ]\n",
    "\n",
    "def attribution( input_list ):\n",
    "    for i in range( len( Data ) ):\n",
    "        if list(Data.iloc[ i ])[ : -1 ] == input_list:\n",
    "            kit=Data.iloc[ i ][-1]\n",
    "    df_kit = pd.read_excel( \"data.xlsx\" , sheet_name = kit )\n",
    "    return(df_kit)"
   ]
  },
  {
   "cell_type": "code",
   "execution_count": 86,
   "metadata": {},
   "outputs": [],
   "source": [
    "input1 = [ 0 , 0 , 2 , 1 , 1 , 1 , 0 , 1 , 0 , 0 , 0 , 0 ]\n",
    "df1=attribution( input1 ) "
   ]
  },
  {
   "cell_type": "code",
   "execution_count": 87,
   "metadata": {},
   "outputs": [
    {
     "data": {
      "text/html": [
       "<div>\n",
       "<style scoped>\n",
       "    .dataframe tbody tr th:only-of-type {\n",
       "        vertical-align: middle;\n",
       "    }\n",
       "\n",
       "    .dataframe tbody tr th {\n",
       "        vertical-align: top;\n",
       "    }\n",
       "\n",
       "    .dataframe thead th {\n",
       "        text-align: right;\n",
       "    }\n",
       "</style>\n",
       "<table border=\"1\" class=\"dataframe\">\n",
       "  <thead>\n",
       "    <tr style=\"text-align: right;\">\n",
       "      <th></th>\n",
       "      <th>product_ID</th>\n",
       "      <th>unit price</th>\n",
       "      <th>quantity</th>\n",
       "    </tr>\n",
       "  </thead>\n",
       "  <tbody>\n",
       "    <tr>\n",
       "      <th>0</th>\n",
       "      <td>2_00001</td>\n",
       "      <td>0.99</td>\n",
       "      <td>1</td>\n",
       "    </tr>\n",
       "    <tr>\n",
       "      <th>1</th>\n",
       "      <td>2_00007</td>\n",
       "      <td>1.49</td>\n",
       "      <td>2</td>\n",
       "    </tr>\n",
       "  </tbody>\n",
       "</table>\n",
       "</div>"
      ],
      "text/plain": [
       "  product_ID  unit price  quantity\n",
       "0    2_00001        0.99         1\n",
       "1    2_00007        1.49         2"
      ]
     },
     "execution_count": 87,
     "metadata": {},
     "output_type": "execute_result"
    }
   ],
   "source": [
    "df1"
   ]
  },
  {
   "cell_type": "code",
   "execution_count": 88,
   "metadata": {},
   "outputs": [
    {
     "name": "stdout",
     "output_type": "stream",
     "text": [
      "2_00001\n",
      "2_00007\n"
     ]
    }
   ],
   "source": [
    "for x in df1.product_ID:\n",
    "    print(x)"
   ]
  },
  {
   "cell_type": "code",
   "execution_count": 90,
   "metadata": {},
   "outputs": [],
   "source": [
    "def getKit( kit_df ):\n",
    "    col = list(products_columns) + [\"quantity\"]\n",
    "    kit_elements = pd.DataFrame(columns = col)\n",
    "    for x in kit_df.product_ID :\n",
    "        for i in range ( len( Products ) ):\n",
    "            if Products[\"product_ID\"].iloc[ i ] == x :\n",
    "                kit_elements = kit_elements.append( Products.iloc[ i ] , ignore_index = True)\n",
    "    kit_elements[\"quantity\"]=kit_df.quantity\n",
    "    return( kit_elements )"
   ]
  },
  {
   "cell_type": "code",
   "execution_count": 91,
   "metadata": {
    "scrolled": true
   },
   "outputs": [],
   "source": [
    "kit1 = getKit(df1)"
   ]
  },
  {
   "cell_type": "code",
   "execution_count": 92,
   "metadata": {},
   "outputs": [
    {
     "data": {
      "text/html": [
       "<div>\n",
       "<style scoped>\n",
       "    .dataframe tbody tr th:only-of-type {\n",
       "        vertical-align: middle;\n",
       "    }\n",
       "\n",
       "    .dataframe tbody tr th {\n",
       "        vertical-align: top;\n",
       "    }\n",
       "\n",
       "    .dataframe thead th {\n",
       "        text-align: right;\n",
       "    }\n",
       "</style>\n",
       "<table border=\"1\" class=\"dataframe\">\n",
       "  <thead>\n",
       "    <tr style=\"text-align: right;\">\n",
       "      <th></th>\n",
       "      <th>product_ID</th>\n",
       "      <th>category_ID</th>\n",
       "      <th>category_name</th>\n",
       "      <th>brand</th>\n",
       "      <th>name</th>\n",
       "      <th>price</th>\n",
       "      <th>supplier_name</th>\n",
       "      <th>quantity</th>\n",
       "    </tr>\n",
       "  </thead>\n",
       "  <tbody>\n",
       "    <tr>\n",
       "      <th>0</th>\n",
       "      <td>2_00001</td>\n",
       "      <td>2_1</td>\n",
       "      <td>sodas</td>\n",
       "      <td>Coca Cola</td>\n",
       "      <td>1.25L bottle</td>\n",
       "      <td>0.99</td>\n",
       "      <td>Duane Reades</td>\n",
       "      <td>1</td>\n",
       "    </tr>\n",
       "    <tr>\n",
       "      <th>1</th>\n",
       "      <td>2_00007</td>\n",
       "      <td>2_3</td>\n",
       "      <td>beer</td>\n",
       "      <td>Brooklyn Lager</td>\n",
       "      <td>12fl oz bottle</td>\n",
       "      <td>1.49</td>\n",
       "      <td>Duane Reades</td>\n",
       "      <td>2</td>\n",
       "    </tr>\n",
       "  </tbody>\n",
       "</table>\n",
       "</div>"
      ],
      "text/plain": [
       "  product_ID category_ID category_name           brand            name  price  \\\n",
       "0    2_00001         2_1         sodas       Coca Cola    1.25L bottle   0.99   \n",
       "1    2_00007         2_3          beer  Brooklyn Lager  12fl oz bottle   1.49   \n",
       "\n",
       "  supplier_name  quantity  \n",
       "0  Duane Reades         1  \n",
       "1  Duane Reades         2  "
      ]
     },
     "execution_count": 92,
     "metadata": {},
     "output_type": "execute_result"
    }
   ],
   "source": [
    "kit1"
   ]
  },
  {
   "cell_type": "code",
   "execution_count": 93,
   "metadata": {},
   "outputs": [],
   "source": [
    "def curation ( input_list ):\n",
    "    if list(Data.iloc[ 0 ])[ : -1 ] == input_list :\n",
    "        return(\"your kit is empty, select at least one option to get a Gathr Kit\")\n",
    "    df_kit = attribution ( input_list )\n",
    "    kit_elements = getKit ( df_kit )\n",
    "    return ( kit_elements )"
   ]
  },
  {
   "cell_type": "code",
   "execution_count": 94,
   "metadata": {},
   "outputs": [
    {
     "data": {
      "text/html": [
       "<div>\n",
       "<style scoped>\n",
       "    .dataframe tbody tr th:only-of-type {\n",
       "        vertical-align: middle;\n",
       "    }\n",
       "\n",
       "    .dataframe tbody tr th {\n",
       "        vertical-align: top;\n",
       "    }\n",
       "\n",
       "    .dataframe thead th {\n",
       "        text-align: right;\n",
       "    }\n",
       "</style>\n",
       "<table border=\"1\" class=\"dataframe\">\n",
       "  <thead>\n",
       "    <tr style=\"text-align: right;\">\n",
       "      <th></th>\n",
       "      <th>product_ID</th>\n",
       "      <th>category_ID</th>\n",
       "      <th>category_name</th>\n",
       "      <th>brand</th>\n",
       "      <th>name</th>\n",
       "      <th>price</th>\n",
       "      <th>supplier_name</th>\n",
       "      <th>quantity</th>\n",
       "    </tr>\n",
       "  </thead>\n",
       "  <tbody>\n",
       "    <tr>\n",
       "      <th>0</th>\n",
       "      <td>2_00001</td>\n",
       "      <td>2_1</td>\n",
       "      <td>sodas</td>\n",
       "      <td>Coca Cola</td>\n",
       "      <td>1.25L bottle</td>\n",
       "      <td>0.99</td>\n",
       "      <td>Duane Reades</td>\n",
       "      <td>1</td>\n",
       "    </tr>\n",
       "    <tr>\n",
       "      <th>1</th>\n",
       "      <td>2_00007</td>\n",
       "      <td>2_3</td>\n",
       "      <td>beer</td>\n",
       "      <td>Brooklyn Lager</td>\n",
       "      <td>12fl oz bottle</td>\n",
       "      <td>1.49</td>\n",
       "      <td>Duane Reades</td>\n",
       "      <td>2</td>\n",
       "    </tr>\n",
       "  </tbody>\n",
       "</table>\n",
       "</div>"
      ],
      "text/plain": [
       "  product_ID category_ID category_name           brand            name  price  \\\n",
       "0    2_00001         2_1         sodas       Coca Cola    1.25L bottle   0.99   \n",
       "1    2_00007         2_3          beer  Brooklyn Lager  12fl oz bottle   1.49   \n",
       "\n",
       "  supplier_name  quantity  \n",
       "0  Duane Reades         1  \n",
       "1  Duane Reades         2  "
      ]
     },
     "execution_count": 94,
     "metadata": {},
     "output_type": "execute_result"
    }
   ],
   "source": [
    "curation ( input1 )"
   ]
  },
  {
   "cell_type": "code",
   "execution_count": 95,
   "metadata": {},
   "outputs": [],
   "source": [
    "def create_input( occasion , Type , noGuest , Cooking , Drinks , Supplies , Decorations ):\n",
    "    input_list = [ occasion , Type , noGuest , Cooking ] + Drinks + [ Supplies , Decorations ]\n",
    "    return( input_list )"
   ]
  },
  {
   "cell_type": "code",
   "execution_count": 96,
   "metadata": {},
   "outputs": [],
   "source": [
    "#possible inputs\n",
    "\n",
    "#Kit2 \n",
    "occ_2 = 0\n",
    "typ_2 = 0 \n",
    "guests_2 = 2\n",
    "cook_2 = 0\n",
    "drink_2 = [ 0 , 0 , 0 , 0 , 0 , 0]\n",
    "supp_2 = 0\n",
    "decor_2 = 0\n",
    "input2 = create_input( occ_2 , typ_2 , guests_2 , cook_2 , drink_2 , supp_2 , decor_2 )\n",
    "\n",
    "#Kit3 \n",
    "occ_3 = 0\n",
    "typ_3 = 0 \n",
    "guests_3 = 2\n",
    "cook_3 = 1\n",
    "drink_3 = [ 0 , 0 , 0 , 0 , 0 , 0]\n",
    "supp_3 = 0\n",
    "decor_3 = 0\n",
    "input3 = create_input( occ_3 , typ_3 , guests_3 , cook_3 , drink_3 , supp_3 , decor_3 )\n",
    "\n",
    "#Kit4 \n",
    "occ_4 = 0\n",
    "typ_4 = 0 \n",
    "guests_4 = 2\n",
    "cook_4 = 0\n",
    "drink_4 = [ 1 , 0 , 0 , 1 , 0 , 0]\n",
    "supp_4 = 0\n",
    "decor_4 = 0\n",
    "input4 = create_input( occ_4 , typ_4 , guests_4 , cook_4 , drink_4 , supp_4 , decor_4 )\n",
    "\n",
    "#Kit5 \n",
    "occ_5 = 0\n",
    "typ_5 = 0 \n",
    "guests_5 = 2\n",
    "cook_5 = 1\n",
    "drink_5 = [ 1 , 1 , 0 , 1 , 0 , 0]\n",
    "supp_5 = 0\n",
    "decor_5 = 0\n",
    "input5 = create_input( occ_5 , typ_5 , guests_5 , cook_5 , drink_5 , supp_5 , decor_5 )\n",
    "\n"
   ]
  },
  {
   "cell_type": "code",
   "execution_count": 97,
   "metadata": {},
   "outputs": [
    {
     "data": {
      "text/plain": [
       "'your kit is empty, select at least one option to get a Gathr Kit'"
      ]
     },
     "execution_count": 97,
     "metadata": {},
     "output_type": "execute_result"
    }
   ],
   "source": [
    "curation ( input2 )"
   ]
  },
  {
   "cell_type": "code",
   "execution_count": 98,
   "metadata": {},
   "outputs": [
    {
     "data": {
      "text/html": [
       "<div>\n",
       "<style scoped>\n",
       "    .dataframe tbody tr th:only-of-type {\n",
       "        vertical-align: middle;\n",
       "    }\n",
       "\n",
       "    .dataframe tbody tr th {\n",
       "        vertical-align: top;\n",
       "    }\n",
       "\n",
       "    .dataframe thead th {\n",
       "        text-align: right;\n",
       "    }\n",
       "</style>\n",
       "<table border=\"1\" class=\"dataframe\">\n",
       "  <thead>\n",
       "    <tr style=\"text-align: right;\">\n",
       "      <th></th>\n",
       "      <th>product_ID</th>\n",
       "      <th>category_ID</th>\n",
       "      <th>category_name</th>\n",
       "      <th>brand</th>\n",
       "      <th>name</th>\n",
       "      <th>price</th>\n",
       "      <th>supplier_name</th>\n",
       "      <th>quantity</th>\n",
       "    </tr>\n",
       "  </thead>\n",
       "  <tbody>\n",
       "    <tr>\n",
       "      <th>0</th>\n",
       "      <td>1_00001</td>\n",
       "      <td>1</td>\n",
       "      <td>food</td>\n",
       "      <td>Tostitos</td>\n",
       "      <td>Tortilla Chips</td>\n",
       "      <td>2.98</td>\n",
       "      <td>Duane Reades</td>\n",
       "      <td>1</td>\n",
       "    </tr>\n",
       "    <tr>\n",
       "      <th>1</th>\n",
       "      <td>1_00002</td>\n",
       "      <td>1</td>\n",
       "      <td>food</td>\n",
       "      <td>Old El Paso</td>\n",
       "      <td>Guacamole</td>\n",
       "      <td>1.39</td>\n",
       "      <td>Duane Reades</td>\n",
       "      <td>1</td>\n",
       "    </tr>\n",
       "    <tr>\n",
       "      <th>2</th>\n",
       "      <td>1_00004</td>\n",
       "      <td>1</td>\n",
       "      <td>food</td>\n",
       "      <td>Piccolo Trattoria</td>\n",
       "      <td>Margherita Pizza</td>\n",
       "      <td>10.95</td>\n",
       "      <td>Piccolo Trattoria</td>\n",
       "      <td>1</td>\n",
       "    </tr>\n",
       "  </tbody>\n",
       "</table>\n",
       "</div>"
      ],
      "text/plain": [
       "  product_ID category_ID category_name              brand              name  \\\n",
       "0    1_00001           1          food           Tostitos    Tortilla Chips   \n",
       "1    1_00002           1          food        Old El Paso         Guacamole   \n",
       "2    1_00004           1          food  Piccolo Trattoria  Margherita Pizza   \n",
       "\n",
       "   price      supplier_name  quantity  \n",
       "0   2.98       Duane Reades         1  \n",
       "1   1.39       Duane Reades         1  \n",
       "2  10.95  Piccolo Trattoria         1  "
      ]
     },
     "execution_count": 98,
     "metadata": {},
     "output_type": "execute_result"
    }
   ],
   "source": [
    "curation ( input3 )"
   ]
  },
  {
   "cell_type": "code",
   "execution_count": 99,
   "metadata": {},
   "outputs": [
    {
     "data": {
      "text/html": [
       "<div>\n",
       "<style scoped>\n",
       "    .dataframe tbody tr th:only-of-type {\n",
       "        vertical-align: middle;\n",
       "    }\n",
       "\n",
       "    .dataframe tbody tr th {\n",
       "        vertical-align: top;\n",
       "    }\n",
       "\n",
       "    .dataframe thead th {\n",
       "        text-align: right;\n",
       "    }\n",
       "</style>\n",
       "<table border=\"1\" class=\"dataframe\">\n",
       "  <thead>\n",
       "    <tr style=\"text-align: right;\">\n",
       "      <th></th>\n",
       "      <th>product_ID</th>\n",
       "      <th>category_ID</th>\n",
       "      <th>category_name</th>\n",
       "      <th>brand</th>\n",
       "      <th>name</th>\n",
       "      <th>price</th>\n",
       "      <th>supplier_name</th>\n",
       "      <th>quantity</th>\n",
       "    </tr>\n",
       "  </thead>\n",
       "  <tbody>\n",
       "    <tr>\n",
       "      <th>0</th>\n",
       "      <td>2_00007</td>\n",
       "      <td>2_3</td>\n",
       "      <td>beer</td>\n",
       "      <td>Brooklyn Lager</td>\n",
       "      <td>12fl oz bottle</td>\n",
       "      <td>1.49</td>\n",
       "      <td>Duane Reades</td>\n",
       "      <td>2</td>\n",
       "    </tr>\n",
       "  </tbody>\n",
       "</table>\n",
       "</div>"
      ],
      "text/plain": [
       "  product_ID category_ID category_name           brand            name  price  \\\n",
       "0    2_00007         2_3          beer  Brooklyn Lager  12fl oz bottle   1.49   \n",
       "\n",
       "  supplier_name  quantity  \n",
       "0  Duane Reades         2  "
      ]
     },
     "execution_count": 99,
     "metadata": {},
     "output_type": "execute_result"
    }
   ],
   "source": [
    "curation ( input4 )"
   ]
  },
  {
   "cell_type": "code",
   "execution_count": 100,
   "metadata": {},
   "outputs": [
    {
     "data": {
      "text/html": [
       "<div>\n",
       "<style scoped>\n",
       "    .dataframe tbody tr th:only-of-type {\n",
       "        vertical-align: middle;\n",
       "    }\n",
       "\n",
       "    .dataframe tbody tr th {\n",
       "        vertical-align: top;\n",
       "    }\n",
       "\n",
       "    .dataframe thead th {\n",
       "        text-align: right;\n",
       "    }\n",
       "</style>\n",
       "<table border=\"1\" class=\"dataframe\">\n",
       "  <thead>\n",
       "    <tr style=\"text-align: right;\">\n",
       "      <th></th>\n",
       "      <th>product_ID</th>\n",
       "      <th>category_ID</th>\n",
       "      <th>category_name</th>\n",
       "      <th>brand</th>\n",
       "      <th>name</th>\n",
       "      <th>price</th>\n",
       "      <th>supplier_name</th>\n",
       "      <th>quantity</th>\n",
       "    </tr>\n",
       "  </thead>\n",
       "  <tbody>\n",
       "    <tr>\n",
       "      <th>0</th>\n",
       "      <td>2_00001</td>\n",
       "      <td>2_1</td>\n",
       "      <td>sodas</td>\n",
       "      <td>Coca Cola</td>\n",
       "      <td>1.25L bottle</td>\n",
       "      <td>0.99</td>\n",
       "      <td>Duane Reades</td>\n",
       "      <td>1</td>\n",
       "    </tr>\n",
       "    <tr>\n",
       "      <th>1</th>\n",
       "      <td>2_00007</td>\n",
       "      <td>2_3</td>\n",
       "      <td>beer</td>\n",
       "      <td>Brooklyn Lager</td>\n",
       "      <td>12fl oz bottle</td>\n",
       "      <td>1.49</td>\n",
       "      <td>Duane Reades</td>\n",
       "      <td>2</td>\n",
       "    </tr>\n",
       "  </tbody>\n",
       "</table>\n",
       "</div>"
      ],
      "text/plain": [
       "  product_ID category_ID category_name           brand            name  price  \\\n",
       "0    2_00001         2_1         sodas       Coca Cola    1.25L bottle   0.99   \n",
       "1    2_00007         2_3          beer  Brooklyn Lager  12fl oz bottle   1.49   \n",
       "\n",
       "  supplier_name  quantity  \n",
       "0  Duane Reades         1  \n",
       "1  Duane Reades         2  "
      ]
     },
     "execution_count": 100,
     "metadata": {},
     "output_type": "execute_result"
    }
   ],
   "source": [
    "curation ( input5 )"
   ]
  },
  {
   "cell_type": "code",
   "execution_count": 101,
   "metadata": {},
   "outputs": [],
   "source": [
    "occ_dic = [ \"Casual\" , \"Holiday\" , \"Celebration\" ]\n",
    "type_dic = [ [ \"Movie Night\" , \"Dinner Party\" , \"Brunch\" , \"Board Game Night\" , \"Wine and Cheese\" , \"BBQ\"] ,\n",
    "             [ \" Friendsgiving\" , \"Christmas Party\" , \"Halloween\" , \"Galentines Day\" , \"Dia de los Muertos\" , \"4th of July\"] ,\n",
    "             [ \"Adult Birthday Party\" , \"Kid Birthday Party\", \"Graduation\" , \"Engagment Party\" , \"Gender Reveal\" , \"Housewarming\"  ] ]\n",
    "\n",
    "yes_no = [ \"No\" , \"Yes\" ]\n",
    "drinks_options = [ \"Sodas\" , \"Juice\" , \"Beer\" , \"Wine\" , \"Spirits\"]\n",
    "\n",
    "\n",
    "def translate_input( occasion , Type , noGuest , Food , Drinks , Supplies , Decorations ):\n",
    "    occ = occ_dic.index( occasion )\n",
    "    typ = type_dic[occ].index( Type )\n",
    "    guests = noGuest\n",
    "    cook = yes_no.index( Food )\n",
    "    drinks = [ yes_no.index( Drinks[0] ) , 0 , 0 , 0 , 0 , 0 ]\n",
    "    for i in range(len(drinks_options)):\n",
    "        if drinks_options[i] in Drinks:\n",
    "            drinks[ i+1 ] = 1\n",
    "    supp = yes_no.index( Supplies )\n",
    "    decor = yes_no.index( Decorations )\n",
    "    \n",
    "    input_list = create_input( occ , typ , guests , cook , drinks , supp , decor )\n",
    "    return( input_list )"
   ]
  },
  {
   "cell_type": "code",
   "execution_count": 102,
   "metadata": {},
   "outputs": [
    {
     "data": {
      "text/plain": [
       "[0, 0, 2, 1, 1, 1, 0, 1, 0, 0, 0, 0]"
      ]
     },
     "execution_count": 102,
     "metadata": {},
     "output_type": "execute_result"
    }
   ],
   "source": [
    "translate_input( occasion = \"Casual\" , Type = \"Movie Night\" , noGuest = 2 , Food = \"Yes\" , Drinks = (\"Yes\", \"Sodas\", \"Beer\" ) , Supplies = \"No\" , Decorations = \"No\" )"
   ]
  },
  {
   "cell_type": "code",
   "execution_count": 104,
   "metadata": {},
   "outputs": [],
   "source": [
    "def curation_raw( occasion , Type , noGuest , Food , Drinks , Supplies , Decorations ):\n",
    "    inp = translate_input( occasion , Type , noGuest , Food , Drinks , Supplies , Decorations )\n",
    "    return(curation(inp))"
   ]
  },
  {
   "cell_type": "code",
   "execution_count": 109,
   "metadata": {},
   "outputs": [
    {
     "data": {
      "text/html": [
       "<div>\n",
       "<style scoped>\n",
       "    .dataframe tbody tr th:only-of-type {\n",
       "        vertical-align: middle;\n",
       "    }\n",
       "\n",
       "    .dataframe tbody tr th {\n",
       "        vertical-align: top;\n",
       "    }\n",
       "\n",
       "    .dataframe thead th {\n",
       "        text-align: right;\n",
       "    }\n",
       "</style>\n",
       "<table border=\"1\" class=\"dataframe\">\n",
       "  <thead>\n",
       "    <tr style=\"text-align: right;\">\n",
       "      <th></th>\n",
       "      <th>product_ID</th>\n",
       "      <th>category_ID</th>\n",
       "      <th>category_name</th>\n",
       "      <th>brand</th>\n",
       "      <th>name</th>\n",
       "      <th>price</th>\n",
       "      <th>supplier_name</th>\n",
       "      <th>quantity</th>\n",
       "    </tr>\n",
       "  </thead>\n",
       "  <tbody>\n",
       "    <tr>\n",
       "      <th>0</th>\n",
       "      <td>2_00001</td>\n",
       "      <td>2_1</td>\n",
       "      <td>sodas</td>\n",
       "      <td>Coca Cola</td>\n",
       "      <td>1.25L bottle</td>\n",
       "      <td>0.99</td>\n",
       "      <td>Duane Reades</td>\n",
       "      <td>1</td>\n",
       "    </tr>\n",
       "    <tr>\n",
       "      <th>1</th>\n",
       "      <td>2_00007</td>\n",
       "      <td>2_3</td>\n",
       "      <td>beer</td>\n",
       "      <td>Brooklyn Lager</td>\n",
       "      <td>12fl oz bottle</td>\n",
       "      <td>1.49</td>\n",
       "      <td>Duane Reades</td>\n",
       "      <td>2</td>\n",
       "    </tr>\n",
       "  </tbody>\n",
       "</table>\n",
       "</div>"
      ],
      "text/plain": [
       "  product_ID category_ID category_name           brand            name  price  \\\n",
       "0    2_00001         2_1         sodas       Coca Cola    1.25L bottle   0.99   \n",
       "1    2_00007         2_3          beer  Brooklyn Lager  12fl oz bottle   1.49   \n",
       "\n",
       "  supplier_name  quantity  \n",
       "0  Duane Reades         1  \n",
       "1  Duane Reades         2  "
      ]
     },
     "execution_count": 109,
     "metadata": {},
     "output_type": "execute_result"
    }
   ],
   "source": [
    "curation_raw(occasion = \"Casual\" , Type = \"Movie Night\" , noGuest = 2 , Food = \"Yes\" , Drinks = [\"Yes\", \"Beer\", \"Sodas\"] , Supplies = \"No\" , Decorations = \"No\")"
   ]
  },
  {
   "cell_type": "code",
   "execution_count": 110,
   "metadata": {},
   "outputs": [
    {
     "data": {
      "text/html": [
       "<div>\n",
       "<style scoped>\n",
       "    .dataframe tbody tr th:only-of-type {\n",
       "        vertical-align: middle;\n",
       "    }\n",
       "\n",
       "    .dataframe tbody tr th {\n",
       "        vertical-align: top;\n",
       "    }\n",
       "\n",
       "    .dataframe thead th {\n",
       "        text-align: right;\n",
       "    }\n",
       "</style>\n",
       "<table border=\"1\" class=\"dataframe\">\n",
       "  <thead>\n",
       "    <tr style=\"text-align: right;\">\n",
       "      <th></th>\n",
       "      <th>product_ID</th>\n",
       "      <th>category_ID</th>\n",
       "      <th>category_name</th>\n",
       "      <th>brand</th>\n",
       "      <th>name</th>\n",
       "      <th>price</th>\n",
       "      <th>supplier_name</th>\n",
       "      <th>quantity</th>\n",
       "    </tr>\n",
       "  </thead>\n",
       "  <tbody>\n",
       "    <tr>\n",
       "      <th>0</th>\n",
       "      <td>2_00007</td>\n",
       "      <td>2_3</td>\n",
       "      <td>beer</td>\n",
       "      <td>Brooklyn Lager</td>\n",
       "      <td>12fl oz bottle</td>\n",
       "      <td>1.49</td>\n",
       "      <td>Duane Reades</td>\n",
       "      <td>2</td>\n",
       "    </tr>\n",
       "  </tbody>\n",
       "</table>\n",
       "</div>"
      ],
      "text/plain": [
       "  product_ID category_ID category_name           brand            name  price  \\\n",
       "0    2_00007         2_3          beer  Brooklyn Lager  12fl oz bottle   1.49   \n",
       "\n",
       "  supplier_name  quantity  \n",
       "0  Duane Reades         2  "
      ]
     },
     "execution_count": 110,
     "metadata": {},
     "output_type": "execute_result"
    }
   ],
   "source": [
    "curation_raw(occasion = \"Casual\" , Type = \"Movie Night\" , noGuest = 2 , Food = \"No\" , Drinks = [\"Yes\", \"Beer\"] , Supplies = \"No\" , Decorations = \"No\")"
   ]
  },
  {
   "cell_type": "code",
   "execution_count": 111,
   "metadata": {},
   "outputs": [
    {
     "data": {
      "text/html": [
       "<div>\n",
       "<style scoped>\n",
       "    .dataframe tbody tr th:only-of-type {\n",
       "        vertical-align: middle;\n",
       "    }\n",
       "\n",
       "    .dataframe tbody tr th {\n",
       "        vertical-align: top;\n",
       "    }\n",
       "\n",
       "    .dataframe thead th {\n",
       "        text-align: right;\n",
       "    }\n",
       "</style>\n",
       "<table border=\"1\" class=\"dataframe\">\n",
       "  <thead>\n",
       "    <tr style=\"text-align: right;\">\n",
       "      <th></th>\n",
       "      <th>product_ID</th>\n",
       "      <th>category_ID</th>\n",
       "      <th>category_name</th>\n",
       "      <th>brand</th>\n",
       "      <th>name</th>\n",
       "      <th>price</th>\n",
       "      <th>supplier_name</th>\n",
       "      <th>quantity</th>\n",
       "    </tr>\n",
       "  </thead>\n",
       "  <tbody>\n",
       "    <tr>\n",
       "      <th>0</th>\n",
       "      <td>1_00001</td>\n",
       "      <td>1</td>\n",
       "      <td>food</td>\n",
       "      <td>Tostitos</td>\n",
       "      <td>Tortilla Chips</td>\n",
       "      <td>2.98</td>\n",
       "      <td>Duane Reades</td>\n",
       "      <td>1</td>\n",
       "    </tr>\n",
       "    <tr>\n",
       "      <th>1</th>\n",
       "      <td>1_00002</td>\n",
       "      <td>1</td>\n",
       "      <td>food</td>\n",
       "      <td>Old El Paso</td>\n",
       "      <td>Guacamole</td>\n",
       "      <td>1.39</td>\n",
       "      <td>Duane Reades</td>\n",
       "      <td>1</td>\n",
       "    </tr>\n",
       "    <tr>\n",
       "      <th>2</th>\n",
       "      <td>1_00004</td>\n",
       "      <td>1</td>\n",
       "      <td>food</td>\n",
       "      <td>Piccolo Trattoria</td>\n",
       "      <td>Margherita Pizza</td>\n",
       "      <td>10.95</td>\n",
       "      <td>Piccolo Trattoria</td>\n",
       "      <td>1</td>\n",
       "    </tr>\n",
       "  </tbody>\n",
       "</table>\n",
       "</div>"
      ],
      "text/plain": [
       "  product_ID category_ID category_name              brand              name  \\\n",
       "0    1_00001           1          food           Tostitos    Tortilla Chips   \n",
       "1    1_00002           1          food        Old El Paso         Guacamole   \n",
       "2    1_00004           1          food  Piccolo Trattoria  Margherita Pizza   \n",
       "\n",
       "   price      supplier_name  quantity  \n",
       "0   2.98       Duane Reades         1  \n",
       "1   1.39       Duane Reades         1  \n",
       "2  10.95  Piccolo Trattoria         1  "
      ]
     },
     "execution_count": 111,
     "metadata": {},
     "output_type": "execute_result"
    }
   ],
   "source": [
    "curation_raw(occasion = \"Casual\" , Type = \"Movie Night\" , noGuest = 2 , Food = \"Yes\" , Drinks = [\"No\"] , Supplies = \"No\" , Decorations = \"No\")"
   ]
  },
  {
   "cell_type": "code",
   "execution_count": 112,
   "metadata": {},
   "outputs": [
    {
     "data": {
      "text/plain": [
       "'your kit is empty, select at least one option to get a Gathr Kit'"
      ]
     },
     "execution_count": 112,
     "metadata": {},
     "output_type": "execute_result"
    }
   ],
   "source": [
    "curation_raw(occasion = \"Casual\" , Type = \"Movie Night\" , noGuest = 2 , Food = \"No\" , Drinks = [\"No\"] , Supplies = \"No\" , Decorations = \"No\")"
   ]
  },
  {
   "cell_type": "code",
   "execution_count": null,
   "metadata": {},
   "outputs": [],
   "source": []
  }
 ],
 "metadata": {
  "kernelspec": {
   "display_name": "Python 3",
   "language": "python",
   "name": "python3"
  },
  "language_info": {
   "codemirror_mode": {
    "name": "ipython",
    "version": 3
   },
   "file_extension": ".py",
   "mimetype": "text/x-python",
   "name": "python",
   "nbconvert_exporter": "python",
   "pygments_lexer": "ipython3",
   "version": "3.6.5"
  }
 },
 "nbformat": 4,
 "nbformat_minor": 2
}
